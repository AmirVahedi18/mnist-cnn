{
 "cells": [
  {
   "cell_type": "code",
   "execution_count": 1,
   "metadata": {
    "colab": {
     "base_uri": "https://localhost:8080/"
    },
    "executionInfo": {
     "elapsed": 12683,
     "status": "ok",
     "timestamp": 1679659972279,
     "user": {
      "displayName": "Amir Vahedi",
      "userId": "08282787880820763639"
     },
     "user_tz": -210
    },
    "id": "tWSFyTTVL0LB",
    "outputId": "63bfba47-474f-4435-8796-6eb585cef8c3"
   },
   "outputs": [
    {
     "name": "stderr",
     "output_type": "stream",
     "text": [
      "2023-04-11 16:27:18.531600: I tensorflow/stream_executor/platform/default/dso_loader.cc:49] Successfully opened dynamic library libcudart.so.10.1\n",
      "2023-04-11 16:27:20.202226: I tensorflow/core/platform/cpu_feature_guard.cc:142] This TensorFlow binary is optimized with oneAPI Deep Neural Network Library (oneDNN) to use the following CPU instructions in performance-critical operations:  SSE4.1 SSE4.2 AVX AVX2 FMA\n",
      "To enable them in other operations, rebuild TensorFlow with the appropriate compiler flags.\n",
      "2023-04-11 16:27:20.202943: I tensorflow/compiler/jit/xla_gpu_device.cc:99] Not creating XLA devices, tf_xla_enable_xla_devices not set\n",
      "2023-04-11 16:27:20.203914: I tensorflow/stream_executor/platform/default/dso_loader.cc:49] Successfully opened dynamic library libcuda.so.1\n",
      "2023-04-11 16:27:21.507833: E tensorflow/stream_executor/cuda/cuda_driver.cc:328] failed call to cuInit: CUDA_ERROR_NO_DEVICE: no CUDA-capable device is detected\n",
      "2023-04-11 16:27:21.507863: I tensorflow/stream_executor/cuda/cuda_diagnostics.cc:156] kernel driver does not appear to be running on this host (amir): /proc/driver/nvidia/version does not exist\n"
     ]
    }
   ],
   "source": [
    "import tensorflow as tf\n",
    "config = tf.compat.v1.ConfigProto()\n",
    "config.gpu_options.allow_growth = True\n",
    "sess = tf.compat.v1.Session(config=config) "
   ]
  },
  {
   "cell_type": "code",
   "execution_count": 44,
   "metadata": {},
   "outputs": [],
   "source": [
    "import cv2\n",
    "from numpy import load\n",
    "import pandas as pd\n",
    "import numpy as np\n",
    "import matplotlib.pyplot as plt\n",
    "from sklearn.preprocessing import LabelBinarizer\n",
    "from tensorflow.keras import Model\n",
    "from tensorflow.keras.models import Sequential, load_model\n",
    "from tensorflow.keras.layers import Conv2D, Dense, Flatten, BatchNormalization, Dropout, Input\n",
    "from tensorflow.keras.callbacks import ModelCheckpoint, EarlyStopping"
   ]
  },
  {
   "cell_type": "code",
   "execution_count": 3,
   "metadata": {},
   "outputs": [],
   "source": [
    "data = load('./mnist.npz')\n",
    "X_train = data['x_train']\n",
    "y_train = data['y_train']\n",
    "X_valid = data['x_test']\n",
    "y_valid = data['y_test']\n",
    "\n",
    "lb = LabelBinarizer()\n",
    "y_train = lb.fit_transform(y_train)\n",
    "y_valid = lb.transform(y_valid)\n",
    "X_train = X_train / 255\n",
    "X_valid = X_valid / 255\n",
    "\n",
    "X_train = X_train.reshape(-1, 28, 28, 1)\n",
    "X_valid = X_valid.reshape(-1, 28, 28, 1)"
   ]
  },
  {
   "cell_type": "code",
   "execution_count": 4,
   "metadata": {},
   "outputs": [
    {
     "name": "stderr",
     "output_type": "stream",
     "text": [
      "2023-04-11 16:04:37.219995: I tensorflow/compiler/jit/xla_cpu_device.cc:41] Not creating XLA devices, tf_xla_enable_xla_devices not set\n",
      "2023-04-11 16:04:37.220935: I tensorflow/compiler/jit/xla_gpu_device.cc:99] Not creating XLA devices, tf_xla_enable_xla_devices not set\n"
     ]
    }
   ],
   "source": [
    "model = Sequential()\n",
    "\n",
    "model.add(Conv2D(16, (5, 5), strides=(2, 2), padding='same', activation='relu', input_shape=(28, 28, 1)))\n",
    "\n",
    "model.add(Conv2D(32, (3, 3), padding='same', activation='relu'))\n",
    "model.add(BatchNormalization())\n",
    "\n",
    "model.add(Conv2D(32, (3, 3), padding='same', strides=(2, 2), activation='relu'))\n",
    "model.add(BatchNormalization())\n",
    "\n",
    "model.add(Dropout(rate=0.25))\n",
    "\n",
    "model.add(Conv2D(64, (3, 3), padding='same', activation='relu'))\n",
    "model.add(BatchNormalization())\n",
    "\n",
    "model.add(Conv2D(64, (3, 3), padding='same', strides=(2, 2), activation='relu'))\n",
    "model.add(BatchNormalization())\n",
    "\n",
    "model.add(Dropout(rate=0.25))\n",
    "\n",
    "model.add(Flatten())\n",
    "\n",
    "model.add(Dense(256, activation='relu'))\n",
    "model.add(BatchNormalization())\n",
    "model.add(Dropout(rate=0.25))\n",
    "\n",
    "model.add(Dense(10, activation='softmax'))"
   ]
  },
  {
   "cell_type": "code",
   "execution_count": 5,
   "metadata": {},
   "outputs": [
    {
     "name": "stdout",
     "output_type": "stream",
     "text": [
      "Model: \"sequential\"\n",
      "_________________________________________________________________\n",
      "Layer (type)                 Output Shape              Param #   \n",
      "=================================================================\n",
      "conv2d (Conv2D)              (None, 14, 14, 16)        416       \n",
      "_________________________________________________________________\n",
      "conv2d_1 (Conv2D)            (None, 14, 14, 32)        4640      \n",
      "_________________________________________________________________\n",
      "batch_normalization (BatchNo (None, 14, 14, 32)        128       \n",
      "_________________________________________________________________\n",
      "conv2d_2 (Conv2D)            (None, 7, 7, 32)          9248      \n",
      "_________________________________________________________________\n",
      "batch_normalization_1 (Batch (None, 7, 7, 32)          128       \n",
      "_________________________________________________________________\n",
      "dropout (Dropout)            (None, 7, 7, 32)          0         \n",
      "_________________________________________________________________\n",
      "conv2d_3 (Conv2D)            (None, 7, 7, 64)          18496     \n",
      "_________________________________________________________________\n",
      "batch_normalization_2 (Batch (None, 7, 7, 64)          256       \n",
      "_________________________________________________________________\n",
      "conv2d_4 (Conv2D)            (None, 4, 4, 64)          36928     \n",
      "_________________________________________________________________\n",
      "batch_normalization_3 (Batch (None, 4, 4, 64)          256       \n",
      "_________________________________________________________________\n",
      "dropout_1 (Dropout)          (None, 4, 4, 64)          0         \n",
      "_________________________________________________________________\n",
      "flatten (Flatten)            (None, 1024)              0         \n",
      "_________________________________________________________________\n",
      "dense (Dense)                (None, 256)               262400    \n",
      "_________________________________________________________________\n",
      "batch_normalization_4 (Batch (None, 256)               1024      \n",
      "_________________________________________________________________\n",
      "dropout_2 (Dropout)          (None, 256)               0         \n",
      "_________________________________________________________________\n",
      "dense_1 (Dense)              (None, 10)                2570      \n",
      "=================================================================\n",
      "Total params: 336,490\n",
      "Trainable params: 335,594\n",
      "Non-trainable params: 896\n",
      "_________________________________________________________________\n"
     ]
    }
   ],
   "source": [
    "model.summary()"
   ]
  },
  {
   "cell_type": "code",
   "execution_count": 45,
   "metadata": {},
   "outputs": [],
   "source": [
    "model.compile(loss='categorical_crossentropy', metrics=['accuracy'])"
   ]
  },
  {
   "cell_type": "code",
   "execution_count": 46,
   "metadata": {},
   "outputs": [
    {
     "name": "stdout",
     "output_type": "stream",
     "text": [
      "Epoch 1/30\n",
      "1875/1875 [==============================] - 11s 5ms/step - loss: 0.3355 - accuracy: 0.8979 - val_loss: 0.0558 - val_accuracy: 0.9831\n",
      "Epoch 2/30\n",
      "1875/1875 [==============================] - 9s 5ms/step - loss: 0.0725 - accuracy: 0.9784 - val_loss: 0.0501 - val_accuracy: 0.9838\n",
      "Epoch 3/30\n",
      "1875/1875 [==============================] - 10s 5ms/step - loss: 0.0551 - accuracy: 0.9835 - val_loss: 0.0260 - val_accuracy: 0.9911\n",
      "Epoch 4/30\n",
      "1875/1875 [==============================] - 9s 5ms/step - loss: 0.0449 - accuracy: 0.9870 - val_loss: 0.0356 - val_accuracy: 0.9892\n",
      "Epoch 5/30\n",
      "1875/1875 [==============================] - 10s 5ms/step - loss: 0.0361 - accuracy: 0.9894 - val_loss: 0.0333 - val_accuracy: 0.9904\n",
      "Epoch 6/30\n",
      "1875/1875 [==============================] - 10s 5ms/step - loss: 0.0343 - accuracy: 0.9895 - val_loss: 0.0265 - val_accuracy: 0.9929\n",
      "Epoch 7/30\n",
      "1875/1875 [==============================] - 9s 5ms/step - loss: 0.0288 - accuracy: 0.9916 - val_loss: 0.0257 - val_accuracy: 0.9927\n",
      "Epoch 8/30\n",
      "1875/1875 [==============================] - 9s 5ms/step - loss: 0.0267 - accuracy: 0.9920 - val_loss: 0.0219 - val_accuracy: 0.9939\n",
      "Epoch 9/30\n",
      "1875/1875 [==============================] - 9s 5ms/step - loss: 0.0270 - accuracy: 0.9919 - val_loss: 0.0229 - val_accuracy: 0.9932\n",
      "Epoch 10/30\n",
      "1875/1875 [==============================] - 9s 5ms/step - loss: 0.0248 - accuracy: 0.9925 - val_loss: 0.0285 - val_accuracy: 0.9929\n",
      "Epoch 11/30\n",
      "1875/1875 [==============================] - 10s 5ms/step - loss: 0.0232 - accuracy: 0.9933 - val_loss: 0.0208 - val_accuracy: 0.9942\n",
      "Epoch 12/30\n",
      "1875/1875 [==============================] - 10s 5ms/step - loss: 0.0224 - accuracy: 0.9937 - val_loss: 0.0251 - val_accuracy: 0.9922\n",
      "Epoch 13/30\n",
      "1875/1875 [==============================] - 9s 5ms/step - loss: 0.0198 - accuracy: 0.9943 - val_loss: 0.0230 - val_accuracy: 0.9943\n",
      "Epoch 14/30\n",
      "1875/1875 [==============================] - 9s 5ms/step - loss: 0.0189 - accuracy: 0.9945 - val_loss: 0.0212 - val_accuracy: 0.9944\n",
      "Epoch 15/30\n",
      "1875/1875 [==============================] - 9s 5ms/step - loss: 0.0197 - accuracy: 0.9946 - val_loss: 0.0232 - val_accuracy: 0.9941\n",
      "Epoch 16/30\n",
      "1875/1875 [==============================] - 9s 5ms/step - loss: 0.0179 - accuracy: 0.9951 - val_loss: 0.0267 - val_accuracy: 0.9940\n",
      "Epoch 17/30\n",
      "1875/1875 [==============================] - 9s 5ms/step - loss: 0.0183 - accuracy: 0.9950 - val_loss: 0.0246 - val_accuracy: 0.9934\n",
      "Epoch 18/30\n",
      "1875/1875 [==============================] - 9s 5ms/step - loss: 0.0205 - accuracy: 0.9946 - val_loss: 0.0313 - val_accuracy: 0.9934\n",
      "Epoch 19/30\n",
      "1875/1875 [==============================] - 9s 5ms/step - loss: 0.0162 - accuracy: 0.9951 - val_loss: 0.0223 - val_accuracy: 0.9942\n",
      "Epoch 20/30\n",
      "1875/1875 [==============================] - 9s 5ms/step - loss: 0.0155 - accuracy: 0.9956 - val_loss: 0.0272 - val_accuracy: 0.9941\n",
      "Epoch 21/30\n",
      "1875/1875 [==============================] - 9s 5ms/step - loss: 0.0155 - accuracy: 0.9952 - val_loss: 0.0260 - val_accuracy: 0.9941\n"
     ]
    }
   ],
   "source": [
    "checkpoint_cb = ModelCheckpoint('model.h5', save_best_only=True)\n",
    "early_stopping_cb = EarlyStopping(patience=10, restore_best_weights=True)\n",
    "epochs = 30\n",
    "\n",
    "history = model.fit(X_train, y_train, \n",
    "                    epochs=epochs, \n",
    "                    validation_data=(X_valid, y_valid), \n",
    "                    callbacks=[checkpoint_cb, early_stopping_cb])"
   ]
  },
  {
   "cell_type": "code",
   "execution_count": 67,
   "metadata": {},
   "outputs": [
    {
     "data": {
      "image/png": "[encoded data removed]",
      "text/plain": [
       "<Figure size 1500x900 with 1 Axes>"
      ]
     },
     "metadata": {},
     "output_type": "display_data"
    }
   ],
   "source": [
    "def plot_learning_curves(history, figsize=(15, 9), epochs=epochs):\n",
    "    plt.figure(figsize=figsize)\n",
    "    history_pd = pd.DataFrame(history.history)\n",
    "    plt.plot(history_pd, label=['loss', 'accuracy', 'val_loss', 'val_accuracy'], linewidth=3)\n",
    "    plt.gca().set_ylim(0, 1)\n",
    "    plt.gca().set_xlim(0, len(history_pd) - 1)\n",
    "    plt.xlabel('Epoch', fontsize='x-large')\n",
    "    plt.ylabel('Loss', fontsize='x-large')\n",
    "    plt.legend(fontsize='x-large', loc=1)\n",
    "    plt.grid(True)\n",
    "    plt.show()\n",
    "\n",
    "plot_learning_curves(history)"
   ]
  },
  {
   "cell_type": "code",
   "execution_count": 38,
   "metadata": {},
   "outputs": [
    {
     "name": "stderr",
     "output_type": "stream",
     "text": [
      "[ WARN:0@2074.689] global /croot/opencv-suite_1676452025216/work/modules/videoio/src/cap_gstreamer.cpp (862) isPipelinePlaying OpenCV | GStreamer warning: GStreamer: pipeline have not been created\n"
     ]
    }
   ],
   "source": [
    "model = load_model('./model.h5')\n",
    "vs = cv2.VideoCapture(0)\n",
    "\n",
    "while True: \n",
    "    ret, frame = vs.read()\n",
    "    inputImage = cv2.resize(frame, dsize=(28, 28))\n",
    "    inputImage = cv2.cvtColor(inputImage, cv2.COLOR_RGB2GRAY)\n",
    "    inputImage = inputImage.reshape(28, 28, 1) / 255\n",
    "    inputImage = np.array([inputImage])\n",
    "    prediction = model.predict(inputImage)[0]\n",
    "    text = 'Predicted: {}, Probability: {}'.format(prediction.argmax(), max(prediction))\n",
    "    output = cv2.putText(frame, text, (10, 25), cv2.FONT_HERSHEY_COMPLEX, 0.8, (255, 0, 0), 1)\n",
    "    cv2.imshow('Frame', frame)\n",
    "    if cv2.waitKey(1) & 0xFF == ord('q'):\n",
    "        break\n",
    "vs.release()\n",
    "cv2.destroyAllWindows()"
   ]
  },
  {
   "cell_type": "code",
   "execution_count": null,
   "metadata": {},
   "outputs": [],
   "source": []
  },
  {
   "cell_type": "code",
   "execution_count": 71,
   "metadata": {},
   "outputs": [],
   "source": [
    "input_ = Input(shape=(28, 28, 1))\n",
    "\n",
    "conv0 = Conv2D(16, (5, 5), strides=(2, 2), padding='same', activation='relu')(input_)\n",
    "\n",
    "conv1 = Conv2D(32, (3, 3), padding='same', activation='relu')(conv0)\n",
    "bn2 = BatchNormalization()(conv1)\n",
    "\n",
    "conv3 = Conv2D(32, (3, 3), padding='same', strides=(2, 2), activation='relu')(bn2)\n",
    "bn4 = BatchNormalization()(conv3)\n",
    "\n",
    "dropout5 = Dropout(rate=0.25)(bn4)\n",
    "\n",
    "conv6 = Conv2D(64, (3, 3), padding='same', activation='relu')(dropout5)\n",
    "bn7 = BatchNormalization()(conv6)\n",
    "\n",
    "conv8 = Conv2D(64, (3, 3), padding='same', strides=(2, 2), activation='relu')(bn7)\n",
    "bn9 = BatchNormalization()(conv8)\n",
    "\n",
    "dropout10 = Dropout(rate=0.25)(bn9)\n",
    "\n",
    "flatten11 = Flatten()(dropout10)\n",
    "\n",
    "dense12 = Dense(256, activation='relu')(flatten11)\n",
    "bn13 = BatchNormalization()(dense12)\n",
    "dropout14 = Dropout(rate=0.25)(bn13)\n",
    "\n",
    "class_output = Dense(10, activation='softmax')(dropout14)\n",
    "\n",
    "dense15 = Dense(16)(flatten11)\n",
    "loc_output = Dense(4)(dense15)\n",
    "\n",
    "model = Model(inputs=input_, outputs=[class_output, loc_output])"
   ]
  },
  {
   "cell_type": "code",
   "execution_count": 72,
   "metadata": {},
   "outputs": [
    {
     "name": "stdout",
     "output_type": "stream",
     "text": [
      "Model: \"model_4\"\n",
      "__________________________________________________________________________________________________\n",
      "Layer (type)                    Output Shape         Param #     Connected to                     \n",
      "==================================================================================================\n",
      "input_6 (InputLayer)            [(None, 28, 28, 1)]  0                                            \n",
      "__________________________________________________________________________________________________\n",
      "conv2d_28 (Conv2D)              (None, 14, 14, 16)   416         input_6[0][0]                    \n",
      "__________________________________________________________________________________________________\n",
      "conv2d_29 (Conv2D)              (None, 14, 14, 32)   4640        conv2d_28[0][0]                  \n",
      "__________________________________________________________________________________________________\n",
      "batch_normalization_20 (BatchNo (None, 14, 14, 32)   128         conv2d_29[0][0]                  \n",
      "__________________________________________________________________________________________________\n",
      "conv2d_30 (Conv2D)              (None, 7, 7, 32)     9248        batch_normalization_20[0][0]     \n",
      "__________________________________________________________________________________________________\n",
      "batch_normalization_21 (BatchNo (None, 7, 7, 32)     128         conv2d_30[0][0]                  \n",
      "__________________________________________________________________________________________________\n",
      "dropout_12 (Dropout)            (None, 7, 7, 32)     0           batch_normalization_21[0][0]     \n",
      "__________________________________________________________________________________________________\n",
      "conv2d_31 (Conv2D)              (None, 7, 7, 64)     18496       dropout_12[0][0]                 \n",
      "__________________________________________________________________________________________________\n",
      "batch_normalization_22 (BatchNo (None, 7, 7, 64)     256         conv2d_31[0][0]                  \n",
      "__________________________________________________________________________________________________\n",
      "conv2d_32 (Conv2D)              (None, 4, 4, 64)     36928       batch_normalization_22[0][0]     \n",
      "__________________________________________________________________________________________________\n",
      "batch_normalization_23 (BatchNo (None, 4, 4, 64)     256         conv2d_32[0][0]                  \n",
      "__________________________________________________________________________________________________\n",
      "dropout_13 (Dropout)            (None, 4, 4, 64)     0           batch_normalization_23[0][0]     \n",
      "__________________________________________________________________________________________________\n",
      "flatten_4 (Flatten)             (None, 1024)         0           dropout_13[0][0]                 \n",
      "__________________________________________________________________________________________________\n",
      "dense_12 (Dense)                (None, 256)          262400      flatten_4[0][0]                  \n",
      "__________________________________________________________________________________________________\n",
      "batch_normalization_24 (BatchNo (None, 256)          1024        dense_12[0][0]                   \n",
      "__________________________________________________________________________________________________\n",
      "dropout_14 (Dropout)            (None, 256)          0           batch_normalization_24[0][0]     \n",
      "__________________________________________________________________________________________________\n",
      "dense_14 (Dense)                (None, 16)           16400       flatten_4[0][0]                  \n",
      "__________________________________________________________________________________________________\n",
      "dense_13 (Dense)                (None, 10)           2570        dropout_14[0][0]                 \n",
      "__________________________________________________________________________________________________\n",
      "dense_15 (Dense)                (None, 4)            68          dense_14[0][0]                   \n",
      "==================================================================================================\n",
      "Total params: 352,958\n",
      "Trainable params: 352,062\n",
      "Non-trainable params: 896\n",
      "__________________________________________________________________________________________________\n"
     ]
    }
   ],
   "source": [
    "model.summary()"
   ]
  },
  {
   "cell_type": "code",
   "execution_count": 73,
   "metadata": {},
   "outputs": [],
   "source": [
    "model.compile(loss=['categorical_crossentropy', 'mse'],\n",
    "              loss_weights=[0.8, 0.2],\n",
    "              metrics=['accuracy'])"
   ]
  },
  {
   "cell_type": "code",
   "execution_count": null,
   "metadata": {},
   "outputs": [],
   "source": [
    "y_train_loc = np.array([[0, 0, 28, 28]] * len(y_train))\n",
    "y_valid_loc = np.array([[0, 0, 28, 28]] * len(y_valid))\n",
    "\n",
    "checkpoint_cb = ModelCheckpoint('model.h5', save_best_only=True)\n",
    "early_stopping_cb = EarlyStopping(patience=10, restore_best_weights=True)\n",
    "epochs = 30\n",
    "\n",
    "model.fit(X_train, (y_train, y_train_loc), \n",
    "          epochs=epochs, \n",
    "          validation_data=(X_valid, (y_valid, y_valid_loc)), \n",
    "          callbacks=[checkpoint_cb, early_stopping_cb])"
   ]
  },
  {
   "cell_type": "code",
   "execution_count": 87,
   "metadata": {},
   "outputs": [
    {
     "data": {
      "image/png": "[encoded data removed]",
      "text/plain": [
       "<Figure size 640x480 with 1 Axes>"
      ]
     },
     "metadata": {},
     "output_type": "display_data"
    },
    {
     "data": {
      "text/plain": [
       "array([-0.12032635, -0.17208408, 27.652185  , 27.632523  ], dtype=float32)"
      ]
     },
     "execution_count": 87,
     "metadata": {},
     "output_type": "execute_result"
    }
   ],
   "source": [
    "index = 5\n",
    "plt.imshow(X_valid[index], cmap='gray')\n",
    "plt.axis('off')\n",
    "plt.show()\n",
    "pred = model.predict(np.array([X_valid[index]]))\n",
    "class_pred = pred[0].argmax()\n",
    "class_pred_prob = max(pred[0][0])\n",
    "pred_loc = pred[1][0]\n",
    "class_pred\n",
    "class_pred_prob\n",
    "pred_loc"
   ]
  },
  {
   "cell_type": "code",
   "execution_count": null,
   "metadata": {},
   "outputs": [],
   "source": []
  },
  {
   "cell_type": "code",
   "execution_count": null,
   "metadata": {},
   "outputs": [],
   "source": []
  }
 ],
 "metadata": {
  "colab": {
   "authorship_tag": "ABX9TyOlX4TYoZ2uAhnBvbcAG48F",
   "provenance": []
  },
  "kernelspec": {
   "display_name": "Python 3 (ipykernel)",
   "language": "python",
   "name": "python3"
  },
  "language_info": {
   "codemirror_mode": {
    "name": "ipython",
    "version": 3
   },
   "file_extension": ".py",
   "mimetype": "text/x-python",
   "name": "python",
   "nbconvert_exporter": "python",
   "pygments_lexer": "ipython3",
   "version": "3.9.16"
  }
 },
 "nbformat": 4,
 "nbformat_minor": 4
}
