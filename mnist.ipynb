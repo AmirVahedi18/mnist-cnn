{
 "cells": [
  {
   "cell_type": "markdown",
   "metadata": {},
   "source": [
    "# MNIST Dataset\n",
    "#### **Hand-written Digit Classification with a Convolutional Neural Network**\n",
    "\n",
    "Dataset Source: [http://yann.lecun.com/exdb/mnist/]"
   ]
  },
  {
   "cell_type": "code",
   "execution_count": 1,
   "metadata": {},
   "outputs": [
    {
     "name": "stderr",
     "output_type": "stream",
     "text": [
      "2023-05-03 14:22:45.544039: I tensorflow/stream_executor/platform/default/dso_loader.cc:49] Successfully opened dynamic library libcudart.so.10.1\n"
     ]
    }
   ],
   "source": [
    "# Importing Require Libraries\n",
    "import cv2\n",
    "import numpy as np\n",
    "import pandas as pd\n",
    "import matplotlib.pyplot as plt\n",
    "import tensorflow as tf"
   ]
  },
  {
   "cell_type": "code",
   "execution_count": 2,
   "metadata": {
    "colab": {
     "base_uri": "https://localhost:8080/"
    },
    "executionInfo": {
     "elapsed": 12683,
     "status": "ok",
     "timestamp": 1679659972279,
     "user": {
      "displayName": "Amir Vahedi",
      "userId": "08282787880820763639"
     },
     "user_tz": -210
    },
    "id": "tWSFyTTVL0LB",
    "outputId": "63bfba47-474f-4435-8796-6eb585cef8c3"
   },
   "outputs": [
    {
     "name": "stderr",
     "output_type": "stream",
     "text": [
      "2023-05-03 14:22:46.723164: I tensorflow/core/platform/cpu_feature_guard.cc:142] This TensorFlow binary is optimized with oneAPI Deep Neural Network Library (oneDNN) to use the following CPU instructions in performance-critical operations:  SSE4.1 SSE4.2 AVX AVX2 FMA\n",
      "To enable them in other operations, rebuild TensorFlow with the appropriate compiler flags.\n",
      "2023-05-03 14:22:46.724027: I tensorflow/compiler/jit/xla_gpu_device.cc:99] Not creating XLA devices, tf_xla_enable_xla_devices not set\n",
      "2023-05-03 14:22:46.725476: I tensorflow/stream_executor/platform/default/dso_loader.cc:49] Successfully opened dynamic library libcuda.so.1\n",
      "2023-05-03 14:22:46.755563: I tensorflow/stream_executor/cuda/cuda_gpu_executor.cc:941] successful NUMA node read from SysFS had negative value (-1), but there must be at least one NUMA node, so returning NUMA node zero\n",
      "2023-05-03 14:22:46.755948: I tensorflow/core/common_runtime/gpu/gpu_device.cc:1720] Found device 0 with properties: \n",
      "pciBusID: 0000:01:00.0 name: NVIDIA GeForce GTX 1650 computeCapability: 7.5\n",
      "coreClock: 1.56GHz coreCount: 16 deviceMemorySize: 3.82GiB deviceMemoryBandwidth: 119.24GiB/s\n",
      "2023-05-03 14:22:46.756033: I tensorflow/stream_executor/platform/default/dso_loader.cc:49] Successfully opened dynamic library libcudart.so.10.1\n",
      "2023-05-03 14:22:46.758301: I tensorflow/stream_executor/platform/default/dso_loader.cc:49] Successfully opened dynamic library libcublas.so.10\n",
      "2023-05-03 14:22:46.758368: I tensorflow/stream_executor/platform/default/dso_loader.cc:49] Successfully opened dynamic library libcublasLt.so.10\n",
      "2023-05-03 14:22:46.762351: I tensorflow/stream_executor/platform/default/dso_loader.cc:49] Successfully opened dynamic library libcufft.so.10\n",
      "2023-05-03 14:22:46.762735: I tensorflow/stream_executor/platform/default/dso_loader.cc:49] Successfully opened dynamic library libcurand.so.10\n",
      "2023-05-03 14:22:46.764959: I tensorflow/stream_executor/platform/default/dso_loader.cc:49] Successfully opened dynamic library libcusolver.so.10\n",
      "2023-05-03 14:22:46.766221: I tensorflow/stream_executor/platform/default/dso_loader.cc:49] Successfully opened dynamic library libcusparse.so.10\n",
      "2023-05-03 14:22:46.770860: I tensorflow/stream_executor/platform/default/dso_loader.cc:49] Successfully opened dynamic library libcudnn.so.7\n",
      "2023-05-03 14:22:46.771029: I tensorflow/stream_executor/cuda/cuda_gpu_executor.cc:941] successful NUMA node read from SysFS had negative value (-1), but there must be at least one NUMA node, so returning NUMA node zero\n",
      "2023-05-03 14:22:46.771467: I tensorflow/stream_executor/cuda/cuda_gpu_executor.cc:941] successful NUMA node read from SysFS had negative value (-1), but there must be at least one NUMA node, so returning NUMA node zero\n",
      "2023-05-03 14:22:46.771763: I tensorflow/core/common_runtime/gpu/gpu_device.cc:1862] Adding visible gpu devices: 0\n",
      "2023-05-03 14:22:46.771822: I tensorflow/stream_executor/platform/default/dso_loader.cc:49] Successfully opened dynamic library libcudart.so.10.1\n",
      "2023-05-03 14:22:47.436681: I tensorflow/core/common_runtime/gpu/gpu_device.cc:1261] Device interconnect StreamExecutor with strength 1 edge matrix:\n",
      "2023-05-03 14:22:47.436739: I tensorflow/core/common_runtime/gpu/gpu_device.cc:1267]      0 \n",
      "2023-05-03 14:22:47.436748: I tensorflow/core/common_runtime/gpu/gpu_device.cc:1280] 0:   N \n",
      "2023-05-03 14:22:47.437036: I tensorflow/stream_executor/cuda/cuda_gpu_executor.cc:941] successful NUMA node read from SysFS had negative value (-1), but there must be at least one NUMA node, so returning NUMA node zero\n",
      "2023-05-03 14:22:47.437354: I tensorflow/stream_executor/cuda/cuda_gpu_executor.cc:941] successful NUMA node read from SysFS had negative value (-1), but there must be at least one NUMA node, so returning NUMA node zero\n",
      "2023-05-03 14:22:47.437629: I tensorflow/stream_executor/cuda/cuda_gpu_executor.cc:941] successful NUMA node read from SysFS had negative value (-1), but there must be at least one NUMA node, so returning NUMA node zero\n",
      "2023-05-03 14:22:47.437841: I tensorflow/core/common_runtime/gpu/gpu_device.cc:1406] Created TensorFlow device (/job:localhost/replica:0/task:0/device:GPU:0 with 3406 MB memory) -> physical GPU (device: 0, name: NVIDIA GeForce GTX 1650, pci bus id: 0000:01:00.0, compute capability: 7.5)\n"
     ]
    }
   ],
   "source": [
    "# GPU Configuration\n",
    "config = tf.compat.v1.ConfigProto()\n",
    "config.gpu_options.allow_growth = True\n",
    "sess = tf.compat.v1.Session(config=config) "
   ]
  },
  {
   "cell_type": "code",
   "execution_count": 3,
   "metadata": {},
   "outputs": [],
   "source": [
    "# Loading Data\n",
    "from numpy import load\n",
    "\n",
    "data = load('./dataset/mnist.npz')\n",
    "X_train = data['x_train']\n",
    "y_train = data['y_train']\n",
    "X_valid = data['x_test']\n",
    "y_valid = data['y_test']"
   ]
  },
  {
   "cell_type": "code",
   "execution_count": 4,
   "metadata": {},
   "outputs": [],
   "source": [
    "# One-Hot Encoding Labels\n",
    "from sklearn.preprocessing import LabelBinarizer\n",
    "\n",
    "lb = LabelBinarizer()\n",
    "y_train = lb.fit_transform(y_train)\n",
    "y_valid = lb.transform(y_valid)\n",
    "X_train = X_train / 255\n",
    "X_valid = X_valid / 255"
   ]
  },
  {
   "cell_type": "code",
   "execution_count": 5,
   "metadata": {},
   "outputs": [],
   "source": [
    "# Reshaping X_train and X_test\n",
    "X_train = X_train.reshape(-1, 28, 28, 1)\n",
    "X_valid = X_valid.reshape(-1, 28, 28, 1)"
   ]
  },
  {
   "cell_type": "code",
   "execution_count": 6,
   "metadata": {},
   "outputs": [
    {
     "name": "stderr",
     "output_type": "stream",
     "text": [
      "2023-05-03 14:22:48.202635: I tensorflow/compiler/jit/xla_cpu_device.cc:41] Not creating XLA devices, tf_xla_enable_xla_devices not set\n",
      "2023-05-03 14:22:48.202888: I tensorflow/stream_executor/cuda/cuda_gpu_executor.cc:941] successful NUMA node read from SysFS had negative value (-1), but there must be at least one NUMA node, so returning NUMA node zero\n",
      "2023-05-03 14:22:48.203161: I tensorflow/core/common_runtime/gpu/gpu_device.cc:1720] Found device 0 with properties: \n",
      "pciBusID: 0000:01:00.0 name: NVIDIA GeForce GTX 1650 computeCapability: 7.5\n",
      "coreClock: 1.56GHz coreCount: 16 deviceMemorySize: 3.82GiB deviceMemoryBandwidth: 119.24GiB/s\n",
      "2023-05-03 14:22:48.203285: I tensorflow/stream_executor/platform/default/dso_loader.cc:49] Successfully opened dynamic library libcudart.so.10.1\n",
      "2023-05-03 14:22:48.203332: I tensorflow/stream_executor/platform/default/dso_loader.cc:49] Successfully opened dynamic library libcublas.so.10\n",
      "2023-05-03 14:22:48.203360: I tensorflow/stream_executor/platform/default/dso_loader.cc:49] Successfully opened dynamic library libcublasLt.so.10\n",
      "2023-05-03 14:22:48.203386: I tensorflow/stream_executor/platform/default/dso_loader.cc:49] Successfully opened dynamic library libcufft.so.10\n",
      "2023-05-03 14:22:48.203413: I tensorflow/stream_executor/platform/default/dso_loader.cc:49] Successfully opened dynamic library libcurand.so.10\n",
      "2023-05-03 14:22:48.203440: I tensorflow/stream_executor/platform/default/dso_loader.cc:49] Successfully opened dynamic library libcusolver.so.10\n",
      "2023-05-03 14:22:48.203468: I tensorflow/stream_executor/platform/default/dso_loader.cc:49] Successfully opened dynamic library libcusparse.so.10\n",
      "2023-05-03 14:22:48.203494: I tensorflow/stream_executor/platform/default/dso_loader.cc:49] Successfully opened dynamic library libcudnn.so.7\n",
      "2023-05-03 14:22:48.203624: I tensorflow/stream_executor/cuda/cuda_gpu_executor.cc:941] successful NUMA node read from SysFS had negative value (-1), but there must be at least one NUMA node, so returning NUMA node zero\n",
      "2023-05-03 14:22:48.203943: I tensorflow/stream_executor/cuda/cuda_gpu_executor.cc:941] successful NUMA node read from SysFS had negative value (-1), but there must be at least one NUMA node, so returning NUMA node zero\n",
      "2023-05-03 14:22:48.204190: I tensorflow/core/common_runtime/gpu/gpu_device.cc:1862] Adding visible gpu devices: 0\n",
      "2023-05-03 14:22:48.204480: I tensorflow/compiler/jit/xla_gpu_device.cc:99] Not creating XLA devices, tf_xla_enable_xla_devices not set\n",
      "2023-05-03 14:22:48.204623: I tensorflow/stream_executor/cuda/cuda_gpu_executor.cc:941] successful NUMA node read from SysFS had negative value (-1), but there must be at least one NUMA node, so returning NUMA node zero\n",
      "2023-05-03 14:22:48.204860: I tensorflow/core/common_runtime/gpu/gpu_device.cc:1720] Found device 0 with properties: \n",
      "pciBusID: 0000:01:00.0 name: NVIDIA GeForce GTX 1650 computeCapability: 7.5\n",
      "coreClock: 1.56GHz coreCount: 16 deviceMemorySize: 3.82GiB deviceMemoryBandwidth: 119.24GiB/s\n",
      "2023-05-03 14:22:48.204917: I tensorflow/stream_executor/platform/default/dso_loader.cc:49] Successfully opened dynamic library libcudart.so.10.1\n",
      "2023-05-03 14:22:48.204966: I tensorflow/stream_executor/platform/default/dso_loader.cc:49] Successfully opened dynamic library libcublas.so.10\n",
      "2023-05-03 14:22:48.205014: I tensorflow/stream_executor/platform/default/dso_loader.cc:49] Successfully opened dynamic library libcublasLt.so.10\n",
      "2023-05-03 14:22:48.205067: I tensorflow/stream_executor/platform/default/dso_loader.cc:49] Successfully opened dynamic library libcufft.so.10\n",
      "2023-05-03 14:22:48.205100: I tensorflow/stream_executor/platform/default/dso_loader.cc:49] Successfully opened dynamic library libcurand.so.10\n",
      "2023-05-03 14:22:48.205126: I tensorflow/stream_executor/platform/default/dso_loader.cc:49] Successfully opened dynamic library libcusolver.so.10\n",
      "2023-05-03 14:22:48.205151: I tensorflow/stream_executor/platform/default/dso_loader.cc:49] Successfully opened dynamic library libcusparse.so.10\n",
      "2023-05-03 14:22:48.205177: I tensorflow/stream_executor/platform/default/dso_loader.cc:49] Successfully opened dynamic library libcudnn.so.7\n",
      "2023-05-03 14:22:48.205286: I tensorflow/stream_executor/cuda/cuda_gpu_executor.cc:941] successful NUMA node read from SysFS had negative value (-1), but there must be at least one NUMA node, so returning NUMA node zero\n",
      "2023-05-03 14:22:48.205596: I tensorflow/stream_executor/cuda/cuda_gpu_executor.cc:941] successful NUMA node read from SysFS had negative value (-1), but there must be at least one NUMA node, so returning NUMA node zero\n",
      "2023-05-03 14:22:48.205819: I tensorflow/core/common_runtime/gpu/gpu_device.cc:1862] Adding visible gpu devices: 0\n",
      "2023-05-03 14:22:48.205877: I tensorflow/core/common_runtime/gpu/gpu_device.cc:1261] Device interconnect StreamExecutor with strength 1 edge matrix:\n",
      "2023-05-03 14:22:48.205886: I tensorflow/core/common_runtime/gpu/gpu_device.cc:1267]      0 \n",
      "2023-05-03 14:22:48.205894: I tensorflow/core/common_runtime/gpu/gpu_device.cc:1280] 0:   N \n",
      "2023-05-03 14:22:48.206095: I tensorflow/stream_executor/cuda/cuda_gpu_executor.cc:941] successful NUMA node read from SysFS had negative value (-1), but there must be at least one NUMA node, so returning NUMA node zero\n",
      "2023-05-03 14:22:48.206410: I tensorflow/stream_executor/cuda/cuda_gpu_executor.cc:941] successful NUMA node read from SysFS had negative value (-1), but there must be at least one NUMA node, so returning NUMA node zero\n",
      "2023-05-03 14:22:48.206625: I tensorflow/core/common_runtime/gpu/gpu_device.cc:1406] Created TensorFlow device (/job:localhost/replica:0/task:0/device:GPU:0 with 3406 MB memory) -> physical GPU (device: 0, name: NVIDIA GeForce GTX 1650, pci bus id: 0000:01:00.0, compute capability: 7.5)\n"
     ]
    }
   ],
   "source": [
    "# Creating Model\n",
    "from tensorflow.keras import Model\n",
    "from tensorflow.keras.models import Sequential, load_model\n",
    "from tensorflow.keras.layers import Conv2D, Dense, Flatten, BatchNormalization, Dropout, Input\n",
    "from tensorflow.keras.callbacks import ModelCheckpoint, EarlyStopping\n",
    "\n",
    "model = Sequential();\n",
    "\n",
    "model.add(Conv2D(16, (5, 5), strides=(2, 2), padding='same', activation='relu', input_shape=(28, 28, 1)))\n",
    "\n",
    "model.add(Conv2D(32, (3, 3), padding='same', activation='relu'))\n",
    "model.add(BatchNormalization())\n",
    "\n",
    "model.add(Conv2D(32, (3, 3), padding='same', strides=(2, 2), activation='relu'))\n",
    "model.add(BatchNormalization())\n",
    "\n",
    "model.add(Dropout(rate=0.25))\n",
    "\n",
    "model.add(Conv2D(64, (3, 3), padding='same', activation='relu'))\n",
    "model.add(BatchNormalization())\n",
    "\n",
    "model.add(Conv2D(64, (3, 3), padding='same', strides=(2, 2), activation='relu'))\n",
    "model.add(BatchNormalization())\n",
    "\n",
    "model.add(Dropout(rate=0.25))\n",
    "\n",
    "model.add(Flatten())\n",
    "\n",
    "model.add(Dense(256, activation='relu'))\n",
    "model.add(BatchNormalization())\n",
    "model.add(Dropout(rate=0.25))\n",
    "\n",
    "model.add(Dense(10, activation='softmax'))\n",
    "\n",
    "# Compiling Model\n",
    "model.compile(loss='categorical_crossentropy', metrics=['accuracy'])"
   ]
  },
  {
   "cell_type": "code",
   "execution_count": 7,
   "metadata": {},
   "outputs": [
    {
     "name": "stdout",
     "output_type": "stream",
     "text": [
      "Model: \"sequential\"\n",
      "_________________________________________________________________\n",
      "Layer (type)                 Output Shape              Param #   \n",
      "=================================================================\n",
      "conv2d (Conv2D)              (None, 14, 14, 16)        416       \n",
      "_________________________________________________________________\n",
      "conv2d_1 (Conv2D)            (None, 14, 14, 32)        4640      \n",
      "_________________________________________________________________\n",
      "batch_normalization (BatchNo (None, 14, 14, 32)        128       \n",
      "_________________________________________________________________\n",
      "conv2d_2 (Conv2D)            (None, 7, 7, 32)          9248      \n",
      "_________________________________________________________________\n",
      "batch_normalization_1 (Batch (None, 7, 7, 32)          128       \n",
      "_________________________________________________________________\n",
      "dropout (Dropout)            (None, 7, 7, 32)          0         \n",
      "_________________________________________________________________\n",
      "conv2d_3 (Conv2D)            (None, 7, 7, 64)          18496     \n",
      "_________________________________________________________________\n",
      "batch_normalization_2 (Batch (None, 7, 7, 64)          256       \n",
      "_________________________________________________________________\n",
      "conv2d_4 (Conv2D)            (None, 4, 4, 64)          36928     \n",
      "_________________________________________________________________\n",
      "batch_normalization_3 (Batch (None, 4, 4, 64)          256       \n",
      "_________________________________________________________________\n",
      "dropout_1 (Dropout)          (None, 4, 4, 64)          0         \n",
      "_________________________________________________________________\n",
      "flatten (Flatten)            (None, 1024)              0         \n",
      "_________________________________________________________________\n",
      "dense (Dense)                (None, 256)               262400    \n",
      "_________________________________________________________________\n",
      "batch_normalization_4 (Batch (None, 256)               1024      \n",
      "_________________________________________________________________\n",
      "dropout_2 (Dropout)          (None, 256)               0         \n",
      "_________________________________________________________________\n",
      "dense_1 (Dense)              (None, 10)                2570      \n",
      "=================================================================\n",
      "Total params: 336,490\n",
      "Trainable params: 335,594\n",
      "Non-trainable params: 896\n",
      "_________________________________________________________________\n"
     ]
    }
   ],
   "source": [
    "# Information about the Model\n",
    "model.summary()"
   ]
  },
  {
   "cell_type": "code",
   "execution_count": 8,
   "metadata": {},
   "outputs": [
    {
     "name": "stderr",
     "output_type": "stream",
     "text": [
      "2023-05-03 14:22:48.451553: W tensorflow/core/framework/cpu_allocator_impl.cc:80] Allocation of 188160000 exceeds 10% of free system memory.\n",
      "2023-05-03 14:22:48.609007: I tensorflow/compiler/mlir/mlir_graph_optimization_pass.cc:116] None of the MLIR optimization passes are enabled (registered 2)\n",
      "2023-05-03 14:22:48.609454: I tensorflow/core/platform/profile_utils/cpu_utils.cc:112] CPU Frequency: 2599990000 Hz\n"
     ]
    },
    {
     "name": "stdout",
     "output_type": "stream",
     "text": [
      "Epoch 1/30\n"
     ]
    },
    {
     "name": "stderr",
     "output_type": "stream",
     "text": [
      "2023-05-03 14:22:49.819015: I tensorflow/stream_executor/platform/default/dso_loader.cc:49] Successfully opened dynamic library libcublas.so.10\n",
      "2023-05-03 14:22:50.079394: I tensorflow/stream_executor/platform/default/dso_loader.cc:49] Successfully opened dynamic library libcudnn.so.7\n"
     ]
    },
    {
     "name": "stdout",
     "output_type": "stream",
     "text": [
      "1875/1875 [==============================] - 12s 5ms/step - loss: 0.3368 - accuracy: 0.8946 - val_loss: 0.0522 - val_accuracy: 0.9820\n",
      "Epoch 2/30\n",
      "1875/1875 [==============================] - 9s 5ms/step - loss: 0.0682 - accuracy: 0.9790 - val_loss: 0.0441 - val_accuracy: 0.9852\n",
      "Epoch 3/30\n",
      "1875/1875 [==============================] - 9s 5ms/step - loss: 0.0524 - accuracy: 0.9854 - val_loss: 0.0294 - val_accuracy: 0.9915\n",
      "Epoch 4/30\n",
      "1875/1875 [==============================] - 9s 5ms/step - loss: 0.0440 - accuracy: 0.9871 - val_loss: 0.0298 - val_accuracy: 0.9914\n",
      "Epoch 5/30\n",
      "1875/1875 [==============================] - 9s 5ms/step - loss: 0.0366 - accuracy: 0.9890 - val_loss: 0.0213 - val_accuracy: 0.9930\n",
      "Epoch 6/30\n",
      "1875/1875 [==============================] - 10s 5ms/step - loss: 0.0362 - accuracy: 0.9892 - val_loss: 0.0283 - val_accuracy: 0.9925\n",
      "Epoch 7/30\n",
      "1875/1875 [==============================] - 9s 5ms/step - loss: 0.0284 - accuracy: 0.9914 - val_loss: 0.0288 - val_accuracy: 0.9923\n",
      "Epoch 8/30\n",
      "1875/1875 [==============================] - 9s 5ms/step - loss: 0.0285 - accuracy: 0.9916 - val_loss: 0.0308 - val_accuracy: 0.9918\n",
      "Epoch 9/30\n",
      "1875/1875 [==============================] - 8s 4ms/step - loss: 0.0284 - accuracy: 0.9918 - val_loss: 0.0259 - val_accuracy: 0.9936\n",
      "Epoch 10/30\n",
      "1875/1875 [==============================] - 9s 5ms/step - loss: 0.0267 - accuracy: 0.9930 - val_loss: 0.0268 - val_accuracy: 0.9932\n",
      "Epoch 11/30\n",
      "1875/1875 [==============================] - 9s 5ms/step - loss: 0.0242 - accuracy: 0.9931 - val_loss: 0.0263 - val_accuracy: 0.9930\n",
      "Epoch 12/30\n",
      "1875/1875 [==============================] - 9s 5ms/step - loss: 0.0192 - accuracy: 0.9945 - val_loss: 0.0257 - val_accuracy: 0.9936\n",
      "Epoch 13/30\n",
      "1875/1875 [==============================] - 8s 5ms/step - loss: 0.0208 - accuracy: 0.9937 - val_loss: 0.0203 - val_accuracy: 0.9940\n",
      "Epoch 14/30\n",
      "1875/1875 [==============================] - 9s 5ms/step - loss: 0.0185 - accuracy: 0.9942 - val_loss: 0.0245 - val_accuracy: 0.9939\n",
      "Epoch 15/30\n",
      "1875/1875 [==============================] - 8s 5ms/step - loss: 0.0178 - accuracy: 0.9941 - val_loss: 0.0249 - val_accuracy: 0.9938\n",
      "Epoch 16/30\n",
      "1875/1875 [==============================] - 9s 5ms/step - loss: 0.0181 - accuracy: 0.9948 - val_loss: 0.0294 - val_accuracy: 0.9940\n",
      "Epoch 17/30\n",
      "1875/1875 [==============================] - 9s 5ms/step - loss: 0.0170 - accuracy: 0.9952 - val_loss: 0.0257 - val_accuracy: 0.9945\n",
      "Epoch 18/30\n",
      "1875/1875 [==============================] - 9s 5ms/step - loss: 0.0145 - accuracy: 0.9962 - val_loss: 0.0317 - val_accuracy: 0.9929\n",
      "Epoch 19/30\n",
      "1875/1875 [==============================] - 9s 5ms/step - loss: 0.0144 - accuracy: 0.9958 - val_loss: 0.0296 - val_accuracy: 0.9935\n",
      "Epoch 20/30\n",
      "1875/1875 [==============================] - 9s 5ms/step - loss: 0.0169 - accuracy: 0.9949 - val_loss: 0.0274 - val_accuracy: 0.9936\n",
      "Epoch 21/30\n",
      "1875/1875 [==============================] - 9s 5ms/step - loss: 0.0149 - accuracy: 0.9959 - val_loss: 0.0347 - val_accuracy: 0.9935\n",
      "Epoch 22/30\n",
      "1875/1875 [==============================] - 9s 5ms/step - loss: 0.0122 - accuracy: 0.9964 - val_loss: 0.0273 - val_accuracy: 0.9939\n",
      "Epoch 23/30\n",
      "1875/1875 [==============================] - 9s 5ms/step - loss: 0.0148 - accuracy: 0.9960 - val_loss: 0.0281 - val_accuracy: 0.9938\n"
     ]
    }
   ],
   "source": [
    "# Setting Checkpoints\n",
    "checkpoint_cb = ModelCheckpoint('./trained_model/model.h5', save_best_only=True)\n",
    "early_stopping_cb = EarlyStopping(patience=10, restore_best_weights=True)\n",
    "\n",
    "# Training\n",
    "epochs = 30\n",
    "history = model.fit(X_train, y_train, \n",
    "                    epochs=epochs, \n",
    "                    validation_data=(X_valid, y_valid), \n",
    "                    callbacks=[checkpoint_cb, early_stopping_cb])"
   ]
  },
  {
   "cell_type": "code",
   "execution_count": 9,
   "metadata": {},
   "outputs": [
    {
     "data": {
      "image/png": "[encoded data removed]",
      "text/plain": [
       "<Figure size 1500x900 with 1 Axes>"
      ]
     },
     "metadata": {},
     "output_type": "display_data"
    }
   ],
   "source": [
    "# Plotting Learning Curves\n",
    "def plot_learning_curves(history, figsize=(15, 9), epochs=epochs):\n",
    "    plt.figure(figsize=figsize)\n",
    "    history_pd = pd.DataFrame(history.history)\n",
    "    plt.plot(history_pd, label=['loss', 'accuracy', 'val_loss', 'val_accuracy'], linewidth=3)\n",
    "    plt.gca().set_ylim(0, 1)\n",
    "    plt.gca().set_xlim(0, len(history_pd) - 1)\n",
    "    plt.xlabel('Epoch', fontsize='x-large')\n",
    "    plt.ylabel('Loss', fontsize='x-large')\n",
    "    plt.legend(fontsize='x-large', loc=1)\n",
    "    plt.grid(True)\n",
    "    plt.savefig('learning_curves.png')\n",
    "    plt.show()\n",
    "\n",
    "plot_learning_curves(history)"
   ]
  }
 ],
 "metadata": {
  "colab": {
   "authorship_tag": "ABX9TyOlX4TYoZ2uAhnBvbcAG48F",
   "provenance": []
  },
  "kernelspec": {
   "display_name": "Python [conda env:tensorflow] *",
   "language": "python",
   "name": "conda-env-tensorflow-py"
  },
  "language_info": {
   "codemirror_mode": {
    "name": "ipython",
    "version": 3
   },
   "file_extension": ".py",
   "mimetype": "text/x-python",
   "name": "python",
   "nbconvert_exporter": "python",
   "pygments_lexer": "ipython3",
   "version": "3.9.16"
  }
 },
 "nbformat": 4,
 "nbformat_minor": 4
}
